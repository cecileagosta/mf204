{
 "cells": [
  {
   "cell_type": "markdown",
   "metadata": {},
   "source": [
    "***\n",
    "# MF204 : Changements climatiques $-$ ENSTA $-$ 2021-2022\n",
    "\n",
    "https://ecampus.paris-saclay.fr/course/view.php?id=18625\n",
    "\n",
    "Responsable du cours : Nathaelle Bouttes (nathaelle.bouttes@lsce.ipsl.fr)\n",
    "\n",
    "Responsable du TD : Cécile Agosta (cecile.agosta@lsce.ipsl.fr)"
   ]
  },
  {
   "cell_type": "markdown",
   "metadata": {
    "pycharm": {
     "name": "#%% md\n"
    }
   },
   "source": [
    "---\n",
    "### ATTENTION, il faut activer le Kernel mf204 : Kernel -> Change Kernel -> mf204\n",
    "\n",
    "Pour activer ce kernel, il faut avoir suivi les instructions d'installation python : https://climat.notion.site/MF204-Installation-python-bce5003425d54b168439606988d3d7e6\n",
    "\n",
    "---"
   ]
  },
  {
   "cell_type": "markdown",
   "metadata": {},
   "source": [
    "**Quelques commentaires sur les Notebook.**\n",
    "Ce texte est rédigé sous la forme d'un notebook. Un notebook comporte des cellules de texte et des cellules de code, ici en Python. Quelques raccourcis clavier et remarques utiles:\n",
    "\n",
    "- `CTRL+Entrée`: exécute la cellule de code, et affiche son résultat.\n",
    "- `Tab`: Si l'on `Tab` après avoir tapé les premières lettres d'un nom de fonction, le système propose une liste de possibilités (ce qui peut permettre d'éviter des erreurs de frappe)\n",
    "- `MAJ+Tab`: Affiche la documentation sur la fonction. Très utile pour ne pas se tromper sur l'ordre des paramètres. On peut voir une documentation plus complète en cliquant sur le '+'.\n",
    "- `CTRL+s`: Enregistrer les modifications apportées au Notebook.\n",
    "- Le symbole `[*]` à côté d'une cellule de code indique que le noyau Python est toujours en train de calculer. On peut l'interrompre via `Kernel -> Interrupt` ou le redémarrer via `Kernel -> Restart`. Le noyau Python repart alors de zéro, et il faut donc relancer les cellules antérieures à celle sur laquelle on travaillait.\n",
    "\n",
    "Une aide complète, ainsi que la documentation de Python et Numpy, est disponible dans le menu `Aide`.\n",
    "***"
   ]
  },
  {
   "cell_type": "markdown",
   "metadata": {},
   "source": [
    "# Partie 0 : Objectifs du TD\n",
    "\n",
    "## 0.1. Contexte des simulations climatiques\n",
    "\n",
    "L'objectif de ce TD est de comprendre comment sont réalisées les projections climatiques au cours du 21ème siècle. Pour cela nous utiliserons les **sorties de modèles de climat** utilisés pour réaliser les rapports du Groupe d'experts intergouvernemental sur l'évolution du climat (GIEC) / Intergovernmental Panel on Climate Change (IPCC).\n",
    "\n",
    "Les modèles de climats utilisés pour réaliser les rapports du GIEC suivent un protocol commun défini au sein des exercices [CMIP](https://www.wcrp-climate.org/wgcm-cmip) (*Coupled Model Intercomparison Project*), qui sont des exercices d'intercomparaison de **modèles de climat couplés océan-atmosphère (Global Climate Models, GCMs)**, appelés **Earth System Models (ESMs)** quand ils incluent la modélisation de processus chimiques et biologiques relatifs au cycle du carbone. Ces exercices définissent notamment des scénarios de forçages radiatifs communs à tous les modèles et une nomenclature commune pour les champs climatiques modélisés (nom des variables, caractéristiques des grilles, etc.).\n",
    "\n",
    "Le 5ème rapport du GIEC ([IPCC AR5, 2013](https://www.ipcc.ch/report/ar5/wg1/)) était basé sur l'ensembre de simulations climatiques **CMIP5**. Nous utiliserons certaines de ces simulations au cours de ce TD.\n",
    "\n",
    "Le dernier rapport du GIEC ([IPCC AR6, 2021](https://www.ipcc.ch/report/sixth-assessment-report-working-group-i/)) est basé sur l'excercice [CMIP6](https://www.wcrp-climate.org/wgcm-cmip/wgcm-cmip6). Une petite vidéo d'introduction aux simulations CMIP [ici](https://www.wcrp-climate.org/wgcm-cmip).\n",
    "\n",
    "Une autre ressource interessante : [https://www.carbonbrief.org/cmip6-the-next-generation-of-climate-models-explained](https://www.carbonbrief.org/cmip6-the-next-generation-of-climate-models-explained)"
   ]
  },
  {
   "cell_type": "markdown",
   "metadata": {},
   "source": [
    "## 0.2. Choix d'une variable climatique et d'une région à étudier\n",
    "\n",
    "**Nous nous concentrerons sur 4 variables de surface :**\n",
    "   - précipitations (`pr`)\n",
    "   - temparature de l'air en surface (`tas`, pour *surface air temperature*)\n",
    "   - température de surface des océans (`tos`, pour *surface ocean temperature*)\n",
    "   - concentration de glace de mer (`sic`, pour *sea ice concentration*)\n",
    "\n",
    "Nous considérons ces variables en moyennes annuelle et saisonières. Pour simplifier le traitement de données, les variables ont été préalablement interpollées sur une grille régulière longitude/latitude de 1°$\\times$1° et moyennées par saison (DJF et JJA) et en valeurs annuelles (annual) à partir des valeurs mensuelles.\n",
    "\n",
    "**Informations importantes :** vous travaillerez par groupe de 2 pour faciliter l'entraide, mais chacun doit travailler sur son propre notebook et son propre ordinateur.\n",
    "\n",
    "\n",
    "**Q0.2.1** Renommez votre fichier sous la forme : votre-nom-de-famille_mf204.ipynb (par exemple : agosta_mf204.ipynb)\n",
    "\n",
    "**Q0.2.2** Choisissez un couple variable/région par groupes de 2, parmi ceux proposés ci-dessous. Inscrivez vos noms à côté du numéro choisi au tableau.\n",
    "    1. Température en Australie\n",
    "    2. Précipitations en Australie\n",
    "    3. Température des eaux de surface dans la mer de Caraïbe\n",
    "    4. Température en Arctique\n",
    "    5. Précipitations en Arctique\n",
    "    6. Glace de mer en Arctique\n",
    "    7. Température en Antarctique\n",
    "    8. Précipitations en Antarctique\n",
    "    9. Glace de mer en Antarctique\n",
    "    10. Température de l’océan tropical de la « warm pool » du Pacifique\n",
    "    11. Température en Méditerranée\n",
    "    12. Précipitations en Méditerranée\n",
    "    13. Température de l'Eurasie Nord (Scandinavie, Sibérie)\n",
    "    14. Précipitations de l'Eurasie Nord (Scandinavie, Sibérie)\n",
    "    15. Température du Canada\n",
    "    16. Précipitations du Canada\n",
    "    17. Température en Asie du Sud\n",
    "    18. Précipitations en Asie du Sud\n",
    "    19. Température au Sud de l'Afrique (Namibie, Botswana, Zimbabwe, Mozambique, Afrique du Sud)\n",
    "    20. Précipitations au Sud de l'Afrique (Namibie, Botswana, Zimbabwe, Mozambique, Afrique du Sud)\n",
    "\n",
    "**Q0.2.3** Chargez votre variables à partir de l'archive suivante et mettez le dossier dézippé dans le dossier `./in/` du TD : https://zenodo.org/record/5642616"
   ]
  },
  {
   "cell_type": "markdown",
   "metadata": {},
   "source": [
    "## 0.3 Chargement des modules python\n",
    "\n",
    "**[Répétiton] ATTENTION, il faut activer le Kernel mf204 : Kernel -> Change Kernel -> mf204**\n",
    "\n",
    "Pour activer ce kernel, il faut avoir suivi les instructions d'installation python : https://climat.notion.site/MF204-Installation-python-bce5003425d54b168439606988d3d7e6\n",
    "\n",
    "Chargez ensuite les modules pythons utiles pour la suite du TD :"
   ]
  },
  {
   "cell_type": "code",
   "execution_count": null,
   "metadata": {},
   "outputs": [],
   "source": [
    "# %reset\n",
    "# python module needed\n",
    "# = import modules ============================= #\n",
    "# import netCDF4 as nc # read and write netcdf files\n",
    "# from os.path import exists # check if file exists\n",
    "import matplotlib.pyplot as plt  # interactive plots\n",
    "import cartopy.crs as ccrs  # spatial projections\n",
    "import numpy as np  # arrays\n",
    "import xarray as xr  # netcdf data\n",
    "import cftime  # time decoding\n",
    "\n",
    "# =============================================== #\n",
    "# define the figure size\n",
    "plt.rcParams['figure.figsize'] = [9., 6.]"
   ]
  },
  {
   "cell_type": "code",
   "execution_count": null,
   "metadata": {
    "pycharm": {
     "name": "#%%\n"
    }
   },
   "outputs": [],
   "source": [
    "from platform import python_version\n",
    "\n",
    "print(python_version())"
   ]
  },
  {
   "cell_type": "markdown",
   "metadata": {},
   "source": [
    "---\n",
    "### [Optionnel] : téléchargez des sorties de modèle CMIP6 vous-même\n",
    "\n",
    "Le TD utilise des sorties de CMIP5, mais les sorties CMIP6 sont maintenant disponibles. Vous pouvez essayer de télécharger des fichiers pour explorer de nouvelles simulations.\n",
    "\n",
    "Les instructions pour charger les sorties CMIP6 sont ici : https://climat.notion.site/MF204-charger-des-sorties-CMIP6-25f353c3925a46c0ae05b54249388aff\n"
   ]
  },
  {
   "cell_type": "markdown",
   "metadata": {},
   "source": [
    "---\n",
    "# Partie 1: Définir un domaine spatial et tracer une climatologie avec une projection adaptée\n"
   ]
  },
  {
   "cell_type": "markdown",
   "metadata": {},
   "source": [
    "## 1.1. Lire un fichier netcdf\n",
    "\n",
    "**Qu'est-ce qu'un netcdf ?** (un petit résumé de la page [Wikipedia](https://fr.wikipedia.org/wiki/NetCDF))\n",
    "\n",
    "Netcdf est un format de données ouvert qui permet la création, l'accès et le partage de données scientifiques stockées sous la forme de tableaux. Le format de données est « auto-documenté » c'est-à-dire qu'il existe un en-tête qui décrit la disposition des données dans le reste du fichier, et en particulier des tableaux de données. Ce format est couramment utilisé dans des applications de climatologie, de météorologie et d'océanographie (ex., prévision météorologique, changement climatique et applications des S.I.G.).\n",
    "\n",
    "Mieux vaut une application pratique que de longs discours. Que trouve-t'on dans un netcdf ?"
   ]
  },
  {
   "cell_type": "markdown",
   "metadata": {},
   "source": [
    "**Q1.1.1.** Lire un fichier netcdf et comprendre les variables stockées"
   ]
  },
  {
   "cell_type": "markdown",
   "metadata": {},
   "source": [
    "a) Ouvrir le fichier ./in/grid_1x1.nc4"
   ]
  },
  {
   "cell_type": "code",
   "execution_count": null,
   "metadata": {},
   "outputs": [],
   "source": [
    "# read grid dataset with xarray\n",
    "grid = xr.open_dataset('./in/grid_1x1.nc4')"
   ]
  },
  {
   "cell_type": "markdown",
   "metadata": {},
   "source": [
    "b) Regarder ce qu'il y a dans le dataset `grid`"
   ]
  },
  {
   "cell_type": "code",
   "execution_count": null,
   "metadata": {},
   "outputs": [],
   "source": [
    "# look what's inside `grid`\n",
    "grid"
   ]
  },
  {
   "cell_type": "markdown",
   "metadata": {},
   "source": [
    "c) Donner un nom aux variables que nous allons utiliser souvent et regarder ce qu'il y a dedans"
   ]
  },
  {
   "cell_type": "code",
   "execution_count": null,
   "metadata": {},
   "outputs": [],
   "source": [
    "# longitude variable\n",
    "lon1d = grid['lon']\n",
    "# latitude variable\n",
    "lat1d = grid['lat']\n",
    "# grid cell area variable\n",
    "area2d = grid['area']\n",
    "# transform the lon and lat axes (1d variables) to 2d variables\n",
    "lon2d = lon1d.broadcast_like(area2d)\n",
    "lat2d = lat1d.broadcast_like(area2d)"
   ]
  },
  {
   "cell_type": "code",
   "execution_count": null,
   "metadata": {},
   "outputs": [],
   "source": [
    "# look what's in the variables lon1d, lat1d, area2d, lon2d and lat2d\n",
    "lon1d"
   ]
  },
  {
   "cell_type": "code",
   "execution_count": null,
   "metadata": {
    "scrolled": true
   },
   "outputs": [],
   "source": [
    "lon1d.values"
   ]
  },
  {
   "cell_type": "code",
   "execution_count": null,
   "metadata": {
    "pycharm": {
     "name": "#%%\n"
    }
   },
   "outputs": [],
   "source": [
    "area2d"
   ]
  },
  {
   "cell_type": "markdown",
   "metadata": {},
   "source": [
    "## 1.2. Faire des plots rapides dans la projection d'origine\n",
    "\n",
    "**Q.1.2.1.** Regarder rapidement les variables xarray avec `.plot()`.\n",
    "Quelle est la projection des données ? Quel est le principal problème de cette projection ?"
   ]
  },
  {
   "cell_type": "code",
   "execution_count": null,
   "metadata": {},
   "outputs": [],
   "source": [
    "area2d.plot()"
   ]
  },
  {
   "cell_type": "code",
   "execution_count": null,
   "metadata": {},
   "outputs": [],
   "source": [
    "lon1d.plot()"
   ]
  },
  {
   "cell_type": "code",
   "execution_count": null,
   "metadata": {},
   "outputs": [],
   "source": [
    "lon2d.plot()"
   ]
  },
  {
   "cell_type": "markdown",
   "metadata": {},
   "source": [
    "**Q1.2.2.** Faire une \"bonne carte\" de l'aire des cellules.\n",
    "La lisibilité des cartes est meilleure avec une échelle de couleur discrète, ayant une dizaine d'incrément, une vingtaine max.\n",
    "\n",
    "a) Faire une carte avec les fonctions matplotlib.pyplot :\n",
    "   * échelle discrète de couleur : `plt.contourf()`\n",
    "   * légende de l'échelle de couleur : `plt.colorbar()`\n",
    "   * un label de légende indiquant la variable représentée et son unité : `plt.colorbar(label='my label')`\n",
    "   * label de l'axe x : `plt.xlabel('my label')`\n",
    "   * label de l'axe y : `plt.ylabel('my label')`\n",
    "   * titre de la figure, qui doit donner toutes les autres infos nécessaire à son interprétation : `plt.suptitle('my title')`"
   ]
  },
  {
   "cell_type": "code",
   "execution_count": null,
   "metadata": {},
   "outputs": [],
   "source": [
    "# make a first map\n",
    "plt.contourf(...\n",
    "plt.colorbar(label=...\n",
    "plt.xlabel(...\n",
    "plt.ylabel(...\n",
    "plt.suptitle(..."
   ]
  },
  {
   "cell_type": "markdown",
   "metadata": {
    "pycharm": {
     "name": "#%% md\n"
    }
   },
   "source": [
    "b) Ajustez votre échelle de couleur pour qu'elle soit bien discrétisée :\n",
    "   * choisir vmin, vmax, delta pour ajuster les incréments (`levels`, voir code ci-dessous)\n",
    "   * choisir l'option `extend` adaptée (`'min'`, `'max'` ou `'both'`).\n",
    "Vous pouvez faire des tests."
   ]
  },
  {
   "cell_type": "code",
   "execution_count": null,
   "metadata": {
    "pycharm": {
     "name": "#%%\n"
    }
   },
   "outputs": [],
   "source": [
    "vmin = ...\n",
    "vmax = ...\n",
    "delta = ...\n",
    "levels = np.arange(vmin, vmax + delta, delta)\n",
    "# here your new maps using levels and extend in `plt.contourf()`\n",
    "plt.contourf(...\n",
    "plt.colorbar(label=...\n",
    "plt.xlabel(...\n",
    "plt.ylabel(...\n",
    "plt.suptitle(...\n"
   ]
  },
  {
   "cell_type": "markdown",
   "metadata": {},
   "source": [
    "## 1.3. Faire une carte dans une projection adaptée avec cartopy\n",
    "\n",
    "L'objectif de cette section est de créer une carte avec une projection correcte pour l'ensemble du globe, de définir votre région d'intérêt, puis de créer une carte avec une projection correcte pour votre région.\n",
    "\n",
    "Les projections disponibles dans cartopy sont listées ici : https://scitools.org.uk/cartopy/docs/v0.18/crs/projections.html\n",
    "\n",
    "Et pour une meilleure description des projections, vous pouvez aller voir là : https://matplotlib.org/basemap/users/mapsetup.html"
   ]
  },
  {
   "cell_type": "markdown",
   "metadata": {},
   "source": [
    "a) Choisir une projection et la tracer sur une carte"
   ]
  },
  {
   "cell_type": "code",
   "execution_count": null,
   "metadata": {},
   "outputs": [],
   "source": [
    "# plot a map with a nice projection using cartopy #\n",
    "# =============================================== #\n",
    "# indicate the Coordinate Reference System (crs) of your input data\n",
    "data_crs = ccrs.PlateCarree()\n",
    "# choose a projection\n",
    "# e.g. a global equal-area projection: Mollweide (https://matplotlib.org/basemap/users/moll.html)\n",
    "ax = plt.axes(projection=ccrs.Mollweide())\n",
    "ax.coastlines()"
   ]
  },
  {
   "cell_type": "code",
   "execution_count": null,
   "metadata": {},
   "outputs": [],
   "source": [
    "# test this projection\n",
    "fig = plt.figure(figsize=(12, 4))\n",
    "ax = plt.axes(projection=ccrs.Mollweide())\n",
    "plt.contourf(lon1d, lat1d, area2d, transform=data_crs)\n",
    "plt.colorbar(label='Grid cell area (km$^{2}$)')\n",
    "ax.coastlines()\n",
    "title = fig.suptitle('1x1 Grid')"
   ]
  },
  {
   "cell_type": "code",
   "execution_count": null,
   "metadata": {
    "pycharm": {
     "name": "#%%\n"
    }
   },
   "outputs": [],
   "source": [
    "# add levels and extend\n",
    "vmin, vmax, delta = ...\n",
    "levels = ...\n",
    "fig = plt.figure(figsize=(12, 4))\n",
    "ax = plt.axes(projection=ccrs.Mollweide())\n",
    "plt.contourf(...\n",
    "plt.colorbar(label=...\n",
    "ax.coastlines()\n",
    "title = fig.suptitle('1x1 Grid')\n"
   ]
  },
  {
   "cell_type": "markdown",
   "metadata": {},
   "source": [
    "b) Nous créeons maintenant une fonction `shade` qui regroupe toutes ces commandes et qui permettra de faire des cartes automatiquement par la suite."
   ]
  },
  {
   "cell_type": "code",
   "execution_count": null,
   "metadata": {},
   "outputs": [],
   "source": [
    "# define a shade function\n",
    "def shade(var2d, var_name='', units='', title='', vmin=None, vmax=None, delta=None, cmap='viridis', extend='both'):\n",
    "    \"\"\"Shade the 2-dimensional variable var2d with a nice projection and colorbar.\n",
    "    Parameters\n",
    "    ----------\n",
    "    var2d : np.array or xarray\n",
    "        2-dimensional array\n",
    "    var_name : str, optional\n",
    "        Name of the ploted variable.\n",
    "    units : str, optional\n",
    "        Units of the ploted variable.\n",
    "    title : str, optional\n",
    "        Title of the graph. Should describe the specificities of the graph (model, period, etc.).\n",
    "    vmin : real, default: minimum of var2d\n",
    "        Minimum value of the colorbar.\n",
    "    vmax : real, default: maximum of var2d\n",
    "        Maximum value of the colorbar.\n",
    "    delta : real, default: var2d range (max - min) divided by 10\n",
    "        Increment of the colorbar.\n",
    "    cmap : str, default: default matplotlib cmap 'viridis'\n",
    "        Name of the colormap.\n",
    "    extend : str\n",
    "        Define the extremity of the colorbar, can be 'min' or 'max' or 'both' or 'neither'\n",
    "    Returns\n",
    "    -------\n",
    "    a matplotlib figure\n",
    "    \"\"\"\n",
    "    fig = plt.figure(figsize=(12, 4))\n",
    "    ax = plt.axes(projection=ccrs.Mollweide())\n",
    "    ax.set_global()  # to show the whole Earth\n",
    "    # define the colorbar\n",
    "    vmin = var2d.min() if vmin is None else vmin\n",
    "    vmax = var2d.max() if vmax is None else vmax\n",
    "    # default delta give 10 increments from vmin to vmax\n",
    "    delta = (vmax - vmin) / 10. if delta is None else delta\n",
    "    levels = np.arange(vmin, vmax + delta, delta)\n",
    "    # plot\n",
    "    plt.contourf(lon1d, lat1d, var2d, levels, vmin=vmin, vmax=vmax, extend=extend, cmap=cmap, transform=data_crs)\n",
    "    plt.colorbar(label=var_name + ' (' + units + ')')\n",
    "    ax.coastlines()\n",
    "    fig.suptitle(title)"
   ]
  },
  {
   "cell_type": "markdown",
   "metadata": {},
   "source": [
    "c) Test de la fonction shade"
   ]
  },
  {
   "cell_type": "code",
   "execution_count": null,
   "metadata": {
    "scrolled": true,
    "pycharm": {
     "name": "#%%\n"
    }
   },
   "outputs": [],
   "source": [
    "# test the shade function\n",
    "shade(area2d, var_name='Grid cell area', units='km$^{2}$', title='1x1 grid')"
   ]
  },
  {
   "cell_type": "markdown",
   "metadata": {},
   "source": [
    "**Q1.3.1** Ajustez les incréments de votre échelle de couleur ainsi que les extrémités de l'échelle"
   ]
  },
  {
   "cell_type": "code",
   "execution_count": null,
   "metadata": {
    "scrolled": false
   },
   "outputs": [],
   "source": [
    "# choose nice levels and extend for your colorbar\n",
    "shade(..."
   ]
  },
  {
   "cell_type": "markdown",
   "metadata": {},
   "source": [
    "---\n",
    "### Question bonus TD1\n",
    "\n",
    "**Qbonus1** Tester différentes projections"
   ]
  },
  {
   "cell_type": "markdown",
   "metadata": {},
   "source": [
    "# ===== END OF TD1 =====\n",
    "---"
   ]
  },
  {
   "cell_type": "markdown",
   "metadata": {},
   "source": [
    "**Q1.3.2** Définissez votre région"
   ]
  },
  {
   "cell_type": "code",
   "execution_count": null,
   "metadata": {},
   "outputs": [],
   "source": [
    "# a reminder of the 2d latitude field. You have the same for longitude.\n",
    "lat2d.plot()"
   ]
  },
  {
   "cell_type": "code",
   "execution_count": null,
   "metadata": {
    "scrolled": true
   },
   "outputs": [],
   "source": [
    "# define a region : example for Antarctica\n",
    "region2d = (lat2d <= -50)\n",
    "reg_name = 'Antarctica'\n",
    "# mask area2d everywhere except over your region\n",
    "marea2d = area2d.where(region2d)\n",
    "# have a quick look on marea2d\n",
    "marea2d.plot()"
   ]
  },
  {
   "cell_type": "code",
   "execution_count": null,
   "metadata": {},
   "outputs": [],
   "source": [
    "# plot your region with the shade function\n",
    "shade(marea2d, var_name='Grid cell area', units='km$^2$', title='1x1 grid over ' + reg_name, extend='neither')"
   ]
  },
  {
   "cell_type": "code",
   "execution_count": null,
   "metadata": {},
   "outputs": [],
   "source": [
    "# define your own region\n",
    "region2d = ...\n",
    "reg_name = ...\n",
    "marea2d = ...\n",
    "# have a look on your region with .plot() and/or shade\n",
    "...\n",
    "..."
   ]
  },
  {
   "cell_type": "markdown",
   "metadata": {
    "pycharm": {
     "name": "#%% md\n"
    }
   },
   "source": [
    "**Q1.3.3** Définissez une projection adaptée pour votre région. Par exemple, pour Arctique/Antarctique: NorthPolarStereo/SouthPolarStereo, ailleurs: Mercator ou Mollweide. Testez cette projection en plotant `marea2d`.\n",
    "\n",
    "Ajustez les parallèles, les méridiens et leurs labels en customisant gridlines : https://www.net-analysis.com/blog/cartopyintro.html ; https://scitools.org.uk/cartopy/docs/v0.13/matplotlib/geoaxes.html?highlight=gridlines#cartopy.mpl.geoaxes.GeoAxes.gridlines"
   ]
  },
  {
   "cell_type": "markdown",
   "metadata": {},
   "source": [
    "Un exemple pour l'Antarctique :"
   ]
  },
  {
   "cell_type": "code",
   "execution_count": null,
   "metadata": {
    "pycharm": {
     "name": "#%% d\n"
    },
    "scrolled": true
   },
   "outputs": [],
   "source": [
    "fig = plt.figure(figsize=(8, 6))\n",
    "# define a new projection for your region.\n",
    "ax = plt.axes(projection=ccrs.SouthPolarStereo())\n",
    "# the extent is set in longitude/latitude, i.e. in projection \"PlateCarree\"\n",
    "ax.set_extent([-180, 180, -90, -48], crs=ccrs.PlateCarree())\n",
    "# test this projection\n",
    "# `transform` gives the information of the *data projection*\n",
    "# the *plot projection* is defined above\n",
    "plt.contourf(lon1d, lat1d, marea2d, transform=data_crs)\n",
    "plt.colorbar(label='Grid cell area (km$^{2}$)')\n",
    "ax.coastlines(resolution='50m')\n",
    "ax.gridlines(xlocs=np.arange(-180, 180, 45), ylocs=np.arange(-80, -40, 10), draw_labels=True, crs=data_crs)\n",
    "title = fig.suptitle('1x1 Grid')"
   ]
  },
  {
   "cell_type": "markdown",
   "metadata": {},
   "source": [
    "Adaptez cet exemple pour votre région :"
   ]
  },
  {
   "cell_type": "code",
   "execution_count": null,
   "metadata": {},
   "outputs": [],
   "source": [
    "fig = plt.figure(figsize=(8,6))\n",
    "# define a new projection for your region.\n",
    "ax = plt.axes(projection=...\n",
    "# the extent is set in longitude/latitude, i.e. in projection \"PlateCarree\"\n",
    "ax.set_extent(...\n",
    "# test this projection\n",
    "plt.contourf(...\n",
    "plt.colorbar(...\n",
    "ax.coastlines(...\n",
    "ax.gridlines(...\n",
    "title = ..."
   ]
  },
  {
   "cell_type": "markdown",
   "metadata": {},
   "source": [
    "**Q1.3.4** Adaptez la fonction `shade` ci-dessus pour votre nouvelle projection, en incluant les parallèles et méridiens."
   ]
  },
  {
   "cell_type": "code",
   "execution_count": null,
   "metadata": {},
   "outputs": [],
   "source": [
    "def shade(var2d, var_name='', units='', title='', vmin=None, vmax=None, delta=None, cmap=None, extend='both'):\n",
    "    \"\"\"Shade the 2-dimensional variable var2d with a nice projection and colorbar.\n",
    "    Parameters\n",
    "    ----------\n",
    "    var2d : np.array or xarray\n",
    "        2-dimensional array\n",
    "    var_name : str, optional\n",
    "        Name of the ploted variable.\n",
    "    units : str, optional\n",
    "        Units of the ploted variable.\n",
    "    title : str, optional\n",
    "        Title of the graph. Should describe the specificities of the graph (model, period, etc.).\n",
    "    vmin : real, default: minimum of var2d\n",
    "        Minimum value of the colorbar.\n",
    "    vmax : real, default: maximum of var2d\n",
    "        Maximum value of the colorbar.\n",
    "    delta : real, default: var2d range (max - min) divided by 10\n",
    "        Increment of the colorbar.\n",
    "    cmap : str, default: default matplotlib cmap 'viridis'\n",
    "        Name of the colormap.\n",
    "    extend : str\n",
    "        Define the extremity of the colorbar, can be 'min' or 'max' or 'both' or 'neither'\n",
    "    Returns\n",
    "    -------\n",
    "    a matplotlib figure\n",
    "    \"\"\"\n",
    "    ... to be adapted ...\n",
    "\n",
    "\n",
    "# test your new shade function\n",
    "shade(marea2d, var_name='Grid cell area', units='km$^{2}$', title='1x1 grid')"
   ]
  },
  {
   "cell_type": "markdown",
   "metadata": {},
   "source": [
    "## 1.4. Faire une carte climatologique\n",
    "\n",
    "Le vif du sujet. Ici on commence par lire les données climatiques contenues dans les fichiers netcdf stockés dans le dossier `./in/`. Ces fichiers contiennent les valeurs annuelles (`*1x1_annual.nc4`) et saisonnières (DJF et JJA) pour la période \"historical\" (1850-2005) et la projection \"rcp85\" (2006-2100). Les deux périodes ont été concaténées dans un seul fichier pour plus de facilité.\n",
    "\n",
    "Pour la période \"historical\", les forçages radiatifs des modèles de climat couplés océan-atmosphère sont basés sur des valeurs observées. Pour les projections \"rcp85\", les forçages radiatifs augmentent de +8,5 W/m2 entre la fin du 20ème siècle et la fin du 21ème siècle, ce qui correspond à continuer sur notre trajectoire actuelle d'émission de gaz à effet de serre ([\"business-as-usual\"](https://fr.wikipedia.org/wiki/Scénario_RCP)).\n",
    "\n",
    "Pour commencer :\n",
    "* sélectionnez votre variable\n",
    "* choisissez les valeurs annuelles : `season = 'annual'`. Vous pourrez tester les saisons `DJF` et `JJA` ensuite.\n",
    "* sélectionnez un modèle, appelé `gcm` = global climate model. Vous pourrez tester différents gcm ensuite."
   ]
  },
  {
   "cell_type": "code",
   "execution_count": null,
   "metadata": {},
   "outputs": [],
   "source": [
    "# select your variable and your list of GCMs\n",
    "var_name = 'tas'  # 'pr' or 'tas' or 'tos' or 'sic'\n",
    "season = 'annual'  # 'annual' or 'DJF' or 'JJA'\n",
    "gcm = 'ACCESS1-3'  # 'ACCESS1-3' or 'NorESM1-M' or 'GFDL-CM3' or 'CCSM4'\n",
    "# for 'sic' : only 'ACCESS1-3' or 'NorESM1-M'\n",
    "# ========"
   ]
  },
  {
   "cell_type": "code",
   "execution_count": null,
   "metadata": {},
   "outputs": [],
   "source": [
    "# define the name of the file\n",
    "file_in = './in/' + var_name + '/' + season + '/' + var_name + '_' + gcm + '_histo-rcp85_r1i1p1_1x1_' + season + '.nc4'"
   ]
  },
  {
   "cell_type": "code",
   "execution_count": null,
   "metadata": {},
   "outputs": [],
   "source": [
    "# read variable\n",
    "var3d_in = xr.open_dataset(file_in)[var_name]\n",
    "# reformat time axis (for calendar issues)\n",
    "year_min, year_max = var3d_in['time.year'].min(), var3d_in['time.year'].max()\n",
    "time1d = np.array([cftime.datetime(year, 1, 1) for year in np.arange(year_min, year_max + 1)])\n",
    "var3d_in['time'] = time1d\n",
    "# remove NaN\n",
    "var3d_in = var3d_in.where(var3d_in < 9999.)\n",
    "var3d_in = var3d_in.where(var3d_in > -9999.)"
   ]
  },
  {
   "cell_type": "code",
   "execution_count": null,
   "metadata": {},
   "outputs": [],
   "source": [
    "# check what's in var3d_in\n",
    "var3d_in"
   ]
  },
  {
   "cell_type": "code",
   "execution_count": null,
   "metadata": {
    "pycharm": {
     "name": "#%%\n"
    }
   },
   "outputs": [],
   "source": [
    "# check what's in time1d\n",
    "time1d"
   ]
  },
  {
   "cell_type": "code",
   "execution_count": null,
   "metadata": {
    "pycharm": {
     "name": "#%%\n"
    }
   },
   "outputs": [],
   "source": [
    "# have a quick look of the first time step of var3d\n",
    "var3d_in[0].plot()"
   ]
  },
  {
   "cell_type": "code",
   "execution_count": null,
   "metadata": {},
   "outputs": [],
   "source": [
    "# Variables readable names and units\n",
    "name = {'pr': 'precipitation',\n",
    "        'tas': 'surface air temperature',\n",
    "        'tos': 'surface ocean temperature',\n",
    "        'sic': 'sea ice cover'}\n",
    "units = {'pr': 'kg m$^{-2}$ yr$^{-1}$',\n",
    "         'tas': 'C',\n",
    "         'tos': 'C',\n",
    "         'sic': '%'}"
   ]
  },
  {
   "cell_type": "code",
   "execution_count": null,
   "metadata": {},
   "outputs": [],
   "source": [
    "# convert your variable into the readable unit given above\n",
    "add_constant = 0.\n",
    "mult_constant = 1.\n",
    "if var_name == 'pr':\n",
    "    # kg m-2 s-1 -> kg m-2 yr-1\n",
    "    mult_constant = 3600 * 24 * 365.25\n",
    "elif var_name in ('tas', 'tos'):\n",
    "    # K -> degC\n",
    "    add_constant = -273.15\n",
    "\n",
    "# change unit\n",
    "var3d = var3d_in * mult_constant + add_constant"
   ]
  },
  {
   "cell_type": "code",
   "execution_count": null,
   "metadata": {},
   "outputs": [],
   "source": [
    "# change the `units` attribute of your variable\n",
    "var3d.attrs[\"units\"] = units[var_name]"
   ]
  },
  {
   "cell_type": "code",
   "execution_count": null,
   "metadata": {},
   "outputs": [],
   "source": [
    "# check your variable\n",
    "var3d"
   ]
  },
  {
   "cell_type": "code",
   "execution_count": null,
   "metadata": {},
   "outputs": [],
   "source": [
    "# have again a quick view of your variable\n",
    "var3d.sel(time='2020').plot()"
   ]
  },
  {
   "cell_type": "markdown",
   "metadata": {},
   "source": [
    "**Q1.4.1** Calculer la moyenne historique pour 20 ans (1980-2000) de votre variable (=climatologie)"
   ]
  },
  {
   "cell_type": "code",
   "execution_count": null,
   "metadata": {},
   "outputs": [],
   "source": [
    "# define a time period\n",
    "year_min, year_max = 1980, 2000\n",
    "period = ...\n",
    "# average the gcm for this period\n",
    "var2d = ..."
   ]
  },
  {
   "cell_type": "code",
   "execution_count": null,
   "metadata": {},
   "outputs": [],
   "source": [
    "# have a quick look on var2d\n",
    "..."
   ]
  },
  {
   "cell_type": "markdown",
   "metadata": {},
   "source": [
    "**Q1.4.2** Masquez votre variable 2d (moyenne sur 20 ans) partout sauf sur votre région."
   ]
  },
  {
   "cell_type": "code",
   "execution_count": null,
   "metadata": {},
   "outputs": [],
   "source": [
    "# mask the data outside your region\n",
    "mvar2d = ..."
   ]
  },
  {
   "cell_type": "code",
   "execution_count": null,
   "metadata": {},
   "outputs": [],
   "source": [
    "# have a quick look on mvar2d\n",
    "..."
   ]
  },
  {
   "cell_type": "markdown",
   "metadata": {},
   "source": [
    "**Q1.4.3** Faites une carte de la climatologie de votre variable en utilisant votre fonction `shade`, avec un **titre correct**, une **échelle de couleur correcte** et une **colormap correcte** (https://matplotlib.org/users/colormaps.html). Vous pouvez, par exemple, utiliser les colormap suivantes :\n",
    "- 'pr':'YlGnBu'\n",
    "- 'tas':'YlOrRd'\n",
    "- 'tos':'YlOrRd'\n",
    "- 'sic': 'Blues_r'"
   ]
  },
  {
   "cell_type": "code",
   "execution_count": null,
   "metadata": {},
   "outputs": [],
   "source": [
    "# choose your colormap\n",
    "cmap = ..."
   ]
  },
  {
   "cell_type": "code",
   "execution_count": null,
   "metadata": {},
   "outputs": [],
   "source": [
    "# plot mvar2d using your shade function, with a **nice title** and a **nice colorbar**\n",
    "title = ...\n",
    "vmin, vmax, delta = ...\n",
    "shade(...\n",
    "# save your figure in the ./fig/ directory\n",
    "fig_name = './fig/' + gcm + '_time-average_' + str(year_min) + '-' + str(year_max) + '_' + season + '.png'\n",
    "plt.savefig(fig_name, dpi=300)"
   ]
  },
  {
   "cell_type": "markdown",
   "metadata": {},
   "source": [
    "---\n",
    "### Questions bonus TD2\n",
    "\n",
    "- **Qbonus2.a** Refaire cette carte climatologique pour différents gcms, avec la même échelle de couleur pour tous les gcm si possible.\n",
    "- **Qbonus2.b** Refaire cette carte climatologique pour l'été et l'hiver, avec la même échelle de couleur pour toutes les saisons.\n",
    "\n",
    "## La magie des dictionnaires\n",
    "Pour répondre aux questions bonus, vous pouvez au choix :\n",
    "1. refaire tourner votre notebook en changeant le nom du modèle (`gcm`) et le nom de la saison (`season`) à la section 1.4\n",
    "2. créer un dictionnaire, c'est à dire une variable indexée par des mots : voir exemple ci-dessous"
   ]
  },
  {
   "cell_type": "code",
   "execution_count": null,
   "metadata": {
    "pycharm": {
     "name": "#%%\n"
    }
   },
   "outputs": [],
   "source": [
    "# define your dictionary keys\n",
    "gcm_list = 'ACCESS1-3', 'NorESM1-M', 'GFDL-CM3', 'CCSM4'\n",
    "# gcm_list = 'ACCESS1-3', 'NorESM1-M' # for sic\n",
    "season_list = 'annual', 'DJF', 'JJA'"
   ]
  },
  {
   "cell_type": "code",
   "execution_count": null,
   "metadata": {
    "pycharm": {
     "name": "#%%\n"
    }
   },
   "outputs": [],
   "source": [
    "# initialize dictionaries, which depend on GCMs and seasons and contain empty arrays\n",
    "var3d_dict = {gcm_name: {\n",
    "        season_name: xr.DataArray([]) for season_name in season_list\n",
    "                } for gcm_name in gcm_list}\n",
    "\n",
    "time1d_dict = {gcm_name: {\n",
    "        season_name: xr.DataArray([]) for season_name in season_list\n",
    "                } for gcm_name in gcm_list}"
   ]
  },
  {
   "cell_type": "code",
   "execution_count": null,
   "metadata": {
    "pycharm": {
     "name": "#%%\n"
    }
   },
   "outputs": [],
   "source": [
    "# choose your variable\n",
    "# var_name = 'pr'\n",
    "# read the netcdf files and put the data in dictionaries\n",
    "for gcm_name in gcm_list:\n",
    "    for season_name in season_list:\n",
    "        print(gcm_name, season_name)\n",
    "        # define the name of the file\n",
    "        file_in = './in/' + var_name + '/' + season_name + '/' + var_name + '_' + gcm_name + '_histo-rcp85_r1i1p1_1x1_' + season_name + '.nc4'\n",
    "        # read variable and put it in the dictionary\n",
    "        var3d_dict[gcm_name][season_name] = xr.open_dataset(file_in)[var_name]\n",
    "        # reformat time axis (for calendar issues)\n",
    "        year_min, year_max = var3d_dict[gcm_name][season_name]['time.year'].min(), var3d_dict[gcm_name][season_name][\n",
    "            'time.year'].max()\n",
    "        time1d_dict[gcm_name][season_name] = np.array([cftime.datetime(year, 1, 1) for year in np.arange(year_min, year_max + 1)])\n",
    "        var3d_dict[gcm_name][season_name]['time'] = time1d_dict[gcm_name][season_name]\n",
    "        # remove NaN\n",
    "        var3d_dict[gcm_name][season_name] = var3d_dict[gcm_name][season_name].where(\n",
    "            var3d_dict[gcm_name][season_name] < 9999.)\n",
    "        var3d_dict[gcm_name][season_name] = var3d_dict[gcm_name][season_name].where(\n",
    "            var3d_dict[gcm_name][season_name] > -9999.)\n",
    "        # convert your variable into the readable unit given above\n",
    "        add_constant = 0.\n",
    "        mult_constant = 1.\n",
    "        if var_name == 'pr':\n",
    "            # kg m-2 s-1 -> kg m-2 yr-1\n",
    "            mult_constant = 3600 * 24 * 365.25\n",
    "        elif var_name in ('tas', 'tos'):\n",
    "            # K -> degC\n",
    "            add_constant = -273.15\n",
    "        # change unit\n",
    "        var3d_dict[gcm_name][season_name] = var3d_dict[gcm_name][season_name] * mult_constant + add_constant\n",
    "        # change the `units` attribute of your variable\n",
    "        var3d_dict[gcm_name][season_name].attrs[\"units\"] = units[var_name]"
   ]
  },
  {
   "cell_type": "code",
   "execution_count": null,
   "metadata": {
    "pycharm": {
     "name": "#%%\n"
    }
   },
   "outputs": [],
   "source": [
    "# and after you can do a loop on `gcm_name` and `season_name`, an example:\n",
    "for gcm_name in gcm_list:\n",
    "    for season_name in season_list:\n",
    "        # just as an example\n",
    "        # WARNING : this plot is just an example, it must be improved for readability\n",
    "        lon, lat = 0., 80.\n",
    "        plt.plot(time1d_dict[gcm_name][season_name], var3d_dict[gcm_name][season_name].sel(lon=lon, lat=lat, method='nearest'),\n",
    "                 label=gcm_name + ' (' + season_name + ')')\n",
    "plt.title(name[var_name] + ' at ' + str(lon) +'°E and ' + str(lat) + '°N')\n",
    "plt.legend()"
   ]
  },
  {
   "cell_type": "markdown",
   "metadata": {},
   "source": [
    "# ===== END OF TD2 ====="
   ]
  },
  {
   "cell_type": "markdown",
   "metadata": {},
   "source": [
    "---\n",
    "# Partie 2. Calculer et tracer des séries temporelles\n",
    "\n",
    "Le but de cette partie est de visualiser comment évolue votre variable en moyenne sur votre domaine, entre 1850 et 2100 pour le scénario \"historical\"+\"rcp85\". Pour cela il faut faire une moyenne de votre variable sur votre région, qui doit **être pondérée par l'aire des cellules**. Nous travaillons sur les moyennes annuel car l'amplitude du cycle saisonnier peut masquer le signal climatique. Mais il est recommandé de travailler regarder aussi l'évolution par saison (en priorité : DJF et JJA, et en bonus : MAM et SON) pour évaluer les contributions saisonnières au signal annuel.\n",
    "\n",
    "Idéalement ce travail devra être fait pour plusieurs GCMs, mais nous nous concentrerons sur un seul GCM pour commencer."
   ]
  },
  {
   "cell_type": "markdown",
   "metadata": {},
   "source": [
    "## 2.1. Moyenne spatiale et série temporelle annuelle"
   ]
  },
  {
   "cell_type": "markdown",
   "metadata": {},
   "source": [
    "**Q2.1.1** Faire une carte de la variable 3d masquée pour votre région pour une année donnée, avec un titre et une jolie colormap, et les valeurs vmin/vmax qui vont bien, en utilisant votre fonction `shade`."
   ]
  },
  {
   "cell_type": "code",
   "execution_count": null,
   "metadata": {},
   "outputs": [],
   "source": [
    "# mask the data over your region\n",
    "mvar3d = ..."
   ]
  },
  {
   "cell_type": "code",
   "execution_count": null,
   "metadata": {
    "scrolled": false
   },
   "outputs": [],
   "source": [
    "# have a quick look on mvar3d for one year\n",
    "..."
   ]
  },
  {
   "cell_type": "code",
   "execution_count": null,
   "metadata": {},
   "outputs": [],
   "source": [
    "# define mvar2d = mvar3d for the year of your choice. Tip: use .squeeze() to remove the time dimension\n",
    "year = ...\n",
    "mvar2d = ..."
   ]
  },
  {
   "cell_type": "code",
   "execution_count": null,
   "metadata": {
    "scrolled": true
   },
   "outputs": [],
   "source": [
    "# plot mvar3d for the year of your choice, with a title and a nice colormap\n",
    "year = ...\n",
    "mvar2d = ...\n",
    "title = ...\n",
    "vmin, vmax, delta = ...\n",
    "shade(..."
   ]
  },
  {
   "cell_type": "markdown",
   "metadata": {},
   "source": [
    "**Q2.2.2** Faire une moyenne spatiale : il faut **pondérer chaque cellule par l'aire de la cellule**."
   ]
  },
  {
   "cell_type": "code",
   "execution_count": null,
   "metadata": {},
   "outputs": [],
   "source": [
    "# create a weighted variable \n",
    "mvar3d_weighted = mvar3d.weighted(area2d)"
   ]
  },
  {
   "cell_type": "code",
   "execution_count": null,
   "metadata": {},
   "outputs": [],
   "source": [
    "# check what's in mvar3d_weighted\n",
    "mvar3d_weighted"
   ]
  },
  {
   "cell_type": "code",
   "execution_count": null,
   "metadata": {},
   "outputs": [],
   "source": [
    "# mvar1d = var3d, masked for your region, weighted by grid cell area, and spatially averaged\n",
    "mvar1d = mvar3d_weighted.mean((\"lon\", \"lat\"))"
   ]
  },
  {
   "cell_type": "code",
   "execution_count": null,
   "metadata": {},
   "outputs": [],
   "source": [
    "# check what's in mvar1d\n",
    "mvar1d"
   ]
  },
  {
   "cell_type": "code",
   "execution_count": null,
   "metadata": {},
   "outputs": [],
   "source": [
    "# plot quickly what's in mvar1d\n",
    "mvar1d.plot()"
   ]
  },
  {
   "cell_type": "markdown",
   "metadata": {},
   "source": [
    "**Q2.1.3** Tracer les valeurs annuelles de votre variable en moyenne sur votre région, avec :\n",
    "* plot `pyplot` à la place du plot `xarray`, pour mieux gérer les dates : `plt.plot(time1d, mvar1d, label=season)`\n",
    "* titre : `plt.suptitle(title)`\n",
    "* labels d'axes : `plt.xlabel(my_x_label)`, `plt.ylabel(my_y_label)`\n",
    "* ajuster les limites d'axes x et y : `plt.xlim(xmin, xmax)`, `plt.ylim(ymin, ymax)`\n",
    "    * -> pour xlim, comme `x` est un axe des temps, il faut définir les dates xmin et xmax avec `cftime.datetime(year, month, day)`"
   ]
  },
  {
   "cell_type": "code",
   "execution_count": null,
   "metadata": {
    "scrolled": true
   },
   "outputs": [],
   "source": [
    "title = ...\n",
    "plt.plot(...\n",
    "plt.legend()\n",
    "plt.suptitle(...\n",
    "plt.xlabel(...\n",
    "plt.ylabel(...\n",
    "xmin, xmax = cftime.datetime(1850, 6, 15), cftime.datetime(2100, 6, 15)\n",
    "ymin, ymax = mvar1d.min() - 2., mvar1d.max() + 2.\n",
    "plt.xlim(xmin, xmax)\n",
    "plt.ylim(ymin, ymax)\n",
    "# fig_name = './fig/' + gcm + '_spatial-average_' + season + '.png'\n",
    "# plt.savefig(fig_name, dpi=300)"
   ]
  },
  {
   "cell_type": "markdown",
   "metadata": {},
   "source": [
    "---\n",
    "### Questions bonus TD3\n",
    "\n",
    "- **Qbonus3.a** Ajouter sur le même graphe les moyennes saisonières d'été et d'hiver.\n",
    "- **Qbonus3.b** Faire une figure avec uniquement les valeurs annuelles, mais montrant 3 GCMs.\n",
    "\n",
    "**Alternative :** refaire ce graph pour différents gcm et différentes saisons, avec la même échelle verticale pour tous les graphs."
   ]
  },
  {
   "cell_type": "markdown",
   "metadata": {},
   "source": [
    "# ===== END OF TD3 =====\n",
    "---"
   ]
  },
  {
   "cell_type": "markdown",
   "metadata": {},
   "source": [
    "## 2.2. Statistiques climatiques et variabilité interne du climat"
   ]
  },
  {
   "cell_type": "markdown",
   "metadata": {},
   "source": [
    "Ici vous estimerez les changements de votre variable pour des échelles de temps climatiques, c'est-à-dire sur des périodes de 20 à 30 ans. Vous calculerez une métrique permettant de quantifier la variabilité interne (ou \"naturelle\") du climat. Vous calculerez ensuite le \"temps d'émergence\", c'est-à-dire le moment où le signal de changement climatique sort de la variabilité naturelle du climat. "
   ]
  },
  {
   "cell_type": "markdown",
   "metadata": {},
   "source": [
    "---\n",
    "**Résumé du calcul de la variabilité interne dans le cinquième rapport du GIEC (IPCC AR5)**\n",
    "\n",
    "*Extrait du Chapitre 12 Box 12.1 p1041*\n",
    "\n",
    "*A number of methods to indicate model robustness, involving an assessment of the significance of the change when compared to internal variability, have been proposed since AR4. The different methods share the purpose of identifying regions with large, significant or robust changes, regions with small changes, regions where models disagree or a combination of those. They do, however, use different assumptions about the statistical properties of the model ensemble, and therefore different criteria for synthesizing the information from it. Different methods also differ in the way they estimate internal variability. We briefly describe and compare several of these methods here.*\n",
    "\n",
    "*Method (a): The default method used in Chapters 11,12 and 14 as well as in the Annex I (hatching only) is shown in Box 12.1, Figure 1a, and is based on relating the climate change signal to internal variability in 20-year means of the models as a reference[1] . Regions where the multi-model mean change exceeds **two standard deviations of internal variability** and where at least 90% of the models agree on the sign of change are stippled and interpreted as ‘large change with high model agreement’. Regions where the model mean is less than one standard deviation of internal variability are hatched and interpreted as ‘small signal or low agreement of models’. This can have various reasons: (1) changes in individual models are smaller than internal variability, or (2) although changes in individual models are significant, they disagree about the sign and the multi-model mean change remains small. Using this method, the case where all models scatter widely around zero and the case where all models agree on near zero change therefore are both hatched (e.g., precipitation change over the Amazon region by the end of the 21st century, which the following methods mark as ‘inconsistent model response’).*\n",
    "\n",
    "*[1] The internal variability in this method is estimated using pre-industrial control runs for each of the models which are at least 500 years long. The first 100 years of the pre-industrial are ignored. Variability is calculated for every grid point as the standard deviation of non-overlapping 20-year means, multiplied by the square root of 2 to account for the fact that the variability of a difference in means is of interest. A quadratic fit as a function of time is subtracted from these at every grid point to eliminate model drift. This is by definition the standard deviation of the difference between two independent 20-year averages having the same variance and estimates the variation of that difference that would be expected due to unforced internal variability. The median across all models of that quantity is used.*\n",
    "\n",
    "*Variability in methods b–d is estimated from **interannual variations in the base period (1986–2005)** within each model.*"
   ]
  },
  {
   "cell_type": "markdown",
   "metadata": {},
   "source": [
    "---\n",
    "Dans notre cas nous considèrerons :\n",
    "- la période 1980-2000 comme notre **période de référence**. Vous devez vérifier si cette période est bien représentative du climat sur la période 1850-1980\n",
    "- la variabilité interannuelle (i.e. l'écart type des valeurs interannuelles) de cette période de référence comme une mesure de la **variabilité interne**\n",
    "- le **temps d'émergence** est défini comme l'année à partir de laquelle toutes les années sont en dehors de la variabilité interne par rapport à la période de référence."
   ]
  },
  {
   "cell_type": "markdown",
   "metadata": {},
   "source": [
    "**Q2.2.1** Calculer la valeur moyenne et la variabilité interannuelle (standard deviation, `std`) de votre variable régionale pour la période de référence `period_ref`. Inspirez-vous de ce qui a été fait plus haut."
   ]
  },
  {
   "cell_type": "code",
   "execution_count": null,
   "metadata": {},
   "outputs": [],
   "source": [
    "# reference period\n",
    "year_min, year_max = 1980, 2000\n",
    "period_ref = ...\n",
    "# time mean and standard deviation for this period\n",
    "mean_ref = ...\n",
    "std_ref = ..."
   ]
  },
  {
   "cell_type": "markdown",
   "metadata": {},
   "source": [
    "**Q2.2.2** Représentez, vérifiez et ajustez votre période de référence. Commencez par tracer une boîte qui représente la variabilité interne autour de la moyenne pour la période de référence 1980-2000."
   ]
  },
  {
   "cell_type": "code",
   "execution_count": null,
   "metadata": {
    "scrolled": true
   },
   "outputs": [],
   "source": [
    "# a nice figure : add title, axes and labels\n",
    "title = ...\n",
    "# plot the time series\n",
    "plt.plot(...\n",
    "# plot the mean over the period\n",
    "date_min, date_max = cftime.datetime(year_min, 1, 1), cftime.datetime(year_max, 1, 1)\n",
    "plt.hlines(mean_ref, date_min, date_max, colors='b')\n",
    "# shade 2 std around the mean\n",
    "min_val, max_val = ...\n",
    "label = str(year_min) + '-' + str(year_max) + ' : mean =' + str(np.round(mean_ref.values, 1)) + '; std=' + str(\n",
    "    np.round(std_ref.values, 2))\n",
    "plt.fill_between([date_min, date_max], [min_val, min_val], [max_val, max_val], color='b', alpha=0.2, label=label)\n",
    "plt.legend()\n",
    "plt.xlabel('Year')\n",
    "plt.ylabel(name[var_name] + ' (' + units[var_name] + ')')\n",
    "plt.suptitle(title)"
   ]
  },
  {
   "cell_type": "markdown",
   "metadata": {},
   "source": [
    "On va maintenant automatiser cela pour vérifier visuellement la validité de cette période de référence. En fonction du graph obtenu, jouez avec les bornes de votre période de référence pour qu'elle représente le climat \"stable\" avant 1980 (l'allonger ? la reculer dans le temps ?)."
   ]
  },
  {
   "cell_type": "code",
   "execution_count": null,
   "metadata": {
    "scrolled": true
   },
   "outputs": [],
   "source": [
    "def compute_time_mean_std(mvar1d, year_min, year_max):\n",
    "    '''\n",
    "    The time mean and std of the variable mvar1d for the period between year_min and year_max\n",
    "    Parameters\n",
    "    ----------\n",
    "    mvar2d: np.array or xarray\n",
    "        2-dimensional\n",
    "    year_min: integer\n",
    "        first year of the period\n",
    "    year_max: integer\n",
    "        last year of the period\n",
    "    Returns\n",
    "    -------\n",
    "    real, real\n",
    "        time mean, time std\n",
    "    '''\n",
    "    period = (mvar1d['time.year'] >= year_min) & (mvar1d['time.year'] <= year_max)\n",
    "    # mean and standard deviation for this period\n",
    "    tmean = mvar1d[period].mean(\"time\")\n",
    "    tstd = mvar1d[period].std(\"time\")\n",
    "    return tmean.values, tstd.values\n",
    "\n",
    "\n",
    "def show_time_mean_std(mvar1d, year_min, year_max):\n",
    "    '''\n",
    "    Plot a box representing the mean and temporal variability over the period between year_min and year_max\n",
    "    Parameters\n",
    "    ----------\n",
    "    mvar2d: np.array or xarray\n",
    "        2-dimensional\n",
    "    year_min: integer\n",
    "        first year of the period\n",
    "    year_max: integer\n",
    "        last year of the period\n",
    "    Returns\n",
    "    -------\n",
    "    real, real\n",
    "        time mean, time std\n",
    "    '''\n",
    "    # transform year in date\n",
    "    date_min, date_max = cftime.datetime(year_min, 6, 15), cftime.datetime(year_max, 6, 15)\n",
    "    # compute the mean, the std and the levels\n",
    "    tmean, tstd = compute_time_mean_std(mvar1d, year_min, year_max)\n",
    "    tmin, tmax = tmean - 2 * tstd, tmean + 2 * tstd\n",
    "    # plot\n",
    "    # select a color depending of the year\n",
    "    color = plt.get_cmap('viridis')((year_min - 1850) / 200)\n",
    "    # label of the period\n",
    "    label = str(year_min) + '-' + str(year_max) + ' : mean = ' + str(np.round(tmean, 1)) + ' ' + units[var_name] + '; std = ' + str(np.round(tstd, 1)) + ' ' + units[var_name]\n",
    "    # plot the mean over the period with an horizontal line\n",
    "    plt.hlines(tmean, date_min, date_max, colors='b')\n",
    "    # shade 2 std around the mean\n",
    "    plt.fill_between([date_min, date_max], [tmin, tmin], [tmax, tmax], color=color, alpha=0.2, label=label)\n",
    "    return tmean, tstd\n",
    "\n",
    "# a nice figure : add title, axes and labels\n",
    "title = ...\n",
    "# plot the time series\n",
    "plt.plot(...\n",
    "# plot boxes of means +- 2 std\n",
    "for year_min in np.arange(1860, 2000, 20):\n",
    "    show_time_mean_std(mvar1d, year_min, year_min + 20)\n",
    "xmin, xmax = cftime.datetime(1850, 1, 1), cftime.datetime(2100, 1, 1)\n",
    "ymin, ymax = mvar1d.min() - 2., mvar1d.max() + 2.\n",
    "plt.xlim(xmin, xmax)\n",
    "plt.ylim(ymin, ymax)\n",
    "# test your reference period and modify it\n",
    "# ========================================\n",
    "year_min, year_max = ...\n",
    "show_time_mean_std(mvar1d, year_min, year_max)\n",
    "plt.legend()\n",
    "plt.xlabel('Year')\n",
    "plt.ylabel(name[var_name] + ' (' + units[var_name] + ')')\n",
    "plt.suptitle(title)\n",
    "# fig_name = './fig/' + gcm + '_spatial-average_boxes_' + season + '.png'\n",
    "# plt.savefig(fig_name, dpi=300)"
   ]
  },
  {
   "cell_type": "code",
   "execution_count": null,
   "metadata": {},
   "outputs": [],
   "source": [
    "# define your final year_min, year_max for your reference period\n",
    "year_min, year_max = ...\n",
    "mean_ref, std_ref = compute_time_mean_std(mvar1d, year_min, year_max)"
   ]
  },
  {
   "cell_type": "code",
   "execution_count": null,
   "metadata": {},
   "outputs": [],
   "source": [
    "# print your reference mean and std\n",
    "print(str(year_min) + '-' + str(year_max) + ' : mean = ' + str(np.round(mean_ref, 1)) + units[\n",
    "    var_name] + '; std = ' + str(np.round(std_ref, 1)) + units[var_name])"
   ]
  },
  {
   "cell_type": "markdown",
   "metadata": {},
   "source": [
    "**Q2.2.3** Calculez le temps d'émergence `toe`, c'est à dire l'année à partir de laquelle toutes les années sont en dehors de la variabilité interne par rapport à la période de référence."
   ]
  },
  {
   "cell_type": "code",
   "execution_count": null,
   "metadata": {},
   "outputs": [],
   "source": [
    "# define the condition of emergence\n",
    "emergence = ..."
   ]
  },
  {
   "cell_type": "code",
   "execution_count": null,
   "metadata": {},
   "outputs": [],
   "source": [
    "# have a quick look on emergence\n",
    "..."
   ]
  },
  {
   "cell_type": "code",
   "execution_count": null,
   "metadata": {},
   "outputs": [],
   "source": [
    "# find the year toe for which all the following years verify the condition of emergence\n",
    "# on se place à la fin de la période\n",
    "n = ...\n",
    "# tant que la condition d'émergence est égale à 1 on recule dans le temps\n",
    "while ...\n",
    "# si la période d'émergence est trop courte (< 10 ans), on décide qu'il n'y a pas d'émergence\n",
    "if ...\n",
    "    print('no time of emergence for ' + gcm)\n",
    "else:\n",
    "    ...\n",
    "    print('The time of emergence for ' + gcm + ' is: ' + str(toe))\n"
   ]
  },
  {
   "cell_type": "markdown",
   "metadata": {},
   "source": [
    "**Q2.2.4** Représentez graphiquement le temps d'émergence en repartant de la figure précédente. Vous pouvez utiliser les fonctions `plt.hline`, `plt.vline`, `plt.annotate`"
   ]
  },
  {
   "cell_type": "code",
   "execution_count": null,
   "metadata": {
    "scrolled": true
   },
   "outputs": [],
   "source": [
    "# a nice figure : add title, axes and labels\n",
    "title = ...\n",
    "# plot the time series\n",
    "plt.plot(...\n",
    "# your own reference period\n",
    "year_min, year_max = ...\n",
    "show_time_mean_std(mvar1d, year_min, year_max)\n",
    "plt.legend()\n",
    "plt.xlabel('Year')\n",
    "plt.ylabel(season + ' ' + name[var_name] + ' (' + units[var_name] + ')')\n",
    "plt.suptitle(title)\n",
    "# add a representation of the time of emergence toe\n",
    "...\n",
    "\n",
    "# fig_name = './fig/' + gcm + '_spatial-average_toe_' + season + '.png'\n",
    "# plt.savefig(fig_name, dpi=300)"
   ]
  },
  {
   "cell_type": "markdown",
   "metadata": {},
   "source": [
    "## Questions bonus TD4\n",
    "- **Qbonus4.a** : Faites la même figure pour d'autres GCMs\n",
    "- **Qbonus4.b** : Faites la même figure pour l'été et/ou pour l'hiver"
   ]
  },
  {
   "cell_type": "markdown",
   "metadata": {},
   "source": [
    "# ===== END OF TD4 =====\n",
    "---"
   ]
  },
  {
   "cell_type": "markdown",
   "metadata": {},
   "source": [
    "# 3. Carte du changement climatique projeté et de sa significativité\n",
    "Au cours du TD3, vous réaliserez une carte du changement climatique modélisé entre la fin du 21ème siècle et la fin du 20ème siècle pour un GCM et le scénario rcp85, en hachurant les zones où le changement climatique est significatif, c'est à dire qu'il sort de la variabilité interne du climat."
   ]
  },
  {
   "cell_type": "markdown",
   "metadata": {},
   "source": [
    "**Q3.1.** Calculer les valeurs moyennes 2d pour la période future (fin du 21ème siècle: 2080-2100) et la période de référence (fin du 20ème siècle: 1980-2000)"
   ]
  },
  {
   "cell_type": "code",
   "execution_count": null,
   "metadata": {},
   "outputs": [],
   "source": [
    "# see Q1.3.1\n",
    "# define the time periods\n",
    "period_21c = ...\n",
    "period_20c = ...\n",
    "# average the gcm for these time periods\n",
    "mvar2d_21c_mean = ...\n",
    "mvar2d_20c_mean = ..."
   ]
  },
  {
   "cell_type": "markdown",
   "metadata": {},
   "source": [
    "**Q3.2** Faire une carte de différence entre ces deux périodes en utilisant la fonction `shade`. Utiliser une palette de couleur centrée (voir https://matplotlib.org/users/colormaps.html) et des valeurs min et max centrées autour de `0`.\n",
    "\n",
    "Recommandations de palettes de couleur :\n",
    "* pour des températures, 'RdBu_r'\n",
    "* pour des précipitation, 'BrBG'"
   ]
  },
  {
   "cell_type": "code",
   "execution_count": null,
   "metadata": {
    "scrolled": true
   },
   "outputs": [],
   "source": [
    "# plot a map of the difference between the periods\n",
    "dvar2d = ...\n",
    "cmap = ...\n",
    "title = ...\n",
    "vmin, vmax, delta = ...  # to be adjusted, centered around 0\n",
    "shade(..."
   ]
  },
  {
   "cell_type": "markdown",
   "metadata": {},
   "source": [
    "**Q3.3** Montrer les zones où le changement climatique est significatif, en utilisant la même définition que pour la Section 2 : la différence de moyenne entre la fin du 21ème siècle et la fin du 20ème siècle est supérieur à 2 fois la variabilité interne. La variabilité interne est définie comme l'écart type des valeurs annuelles pour la fin du 20ème siècle."
   ]
  },
  {
   "cell_type": "code",
   "execution_count": null,
   "metadata": {},
   "outputs": [],
   "source": [
    "# first define and look at the internal variability\n",
    "mvar2d_20c_std = ..."
   ]
  },
  {
   "cell_type": "code",
   "execution_count": null,
   "metadata": {},
   "outputs": [],
   "source": [
    "# define a 2d variable equal to one where the change is significant, and equal to 0 elsewhere.\n",
    "significant_change = ..."
   ]
  },
  {
   "cell_type": "code",
   "execution_count": null,
   "metadata": {},
   "outputs": [],
   "source": [
    "# have a quick look to significant_change\n",
    "..."
   ]
  },
  {
   "cell_type": "code",
   "execution_count": null,
   "metadata": {
    "scrolled": false
   },
   "outputs": [],
   "source": [
    "# then print dots\n",
    "shade(dvar2d...\n",
    "sig_change_dots = significant_change.where(significant_change)\n",
    "plt.contourf(lon1d, lat1d, sig_change_dots, hatches='.', colors='none', transform=data_crs)\n",
    "#plt.savefig('./fig/' + gcm + '_map_climate-change_' + season + '.png', dpi=300)"
   ]
  },
  {
   "cell_type": "markdown",
   "metadata": {},
   "source": [
    "## Questions bonus TD5\n",
    "\n",
    "- **Qbonus5.a** : Faites la même figure pour d'autres GCMs\n",
    "- **Qbonus5.b** : Faites la même figure pour l'été et/ou pour l'hiver"
   ]
  },
  {
   "cell_type": "markdown",
   "metadata": {},
   "source": [
    "# == The End ==\n",
    "***"
   ]
  }
 ],
 "metadata": {
  "kernelspec": {
   "display_name": "mf204",
   "language": "python",
   "name": "mf204"
  },
  "language_info": {
   "codemirror_mode": {
    "name": "ipython",
    "version": 3
   },
   "file_extension": ".py",
   "mimetype": "text/x-python",
   "name": "python",
   "nbconvert_exporter": "python",
   "pygments_lexer": "ipython3",
   "version": "3.8.12"
  }
 },
 "nbformat": 4,
 "nbformat_minor": 2
}